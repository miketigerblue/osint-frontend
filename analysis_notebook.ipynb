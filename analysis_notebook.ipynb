{
 "cells": [
  {
   "cell_type": "markdown",
   "id": "f39e5eb2",
   "metadata": {},
   "source": [
    "# OSINT Threat Analysis Notebook\n",
    "\n",
    "This notebook provides comprehensive exploratory analysis of the `analysis.json` dataset."
   ]
  },
  {
   "cell_type": "code",
   "execution_count": null,
   "id": "7241335e",
   "metadata": {},
   "outputs": [],
   "source": [
    "import pandas as pd\n",
    "import matplotlib.pyplot as plt\n",
    "\n",
    "# Load data\n",
    "df = pd.read_json('/mnt/data/analysis.json')\n",
    "df.head()"
   ]
  },
  {
   "cell_type": "markdown",
   "id": "a1498016",
   "metadata": {},
   "source": [
    "## Severity Level Distribution"
   ]
  },
  {
   "cell_type": "code",
   "execution_count": null,
   "id": "f1827073",
   "metadata": {},
   "outputs": [],
   "source": [
    "severity_counts = df['severity_level'].value_counts()\n",
    "print(severity_counts)\n",
    "plt.figure()\n",
    "severity_counts.plot(kind='bar')\n",
    "plt.title('Article Count by Severity Level')\n",
    "plt.xlabel('Severity Level')\n",
    "plt.ylabel('Count')\n",
    "plt.tight_layout()\n",
    "plt.show()"
   ]
  },
  {
   "cell_type": "markdown",
   "id": "4d14ef8a",
   "metadata": {},
   "source": [
    "## Daily Article Volume"
   ]
  },
  {
   "cell_type": "code",
   "execution_count": null,
   "id": "d26d5b12",
   "metadata": {},
   "outputs": [],
   "source": [
    "df['published'] = pd.to_datetime(df['published'])\n",
    "daily_counts = df.set_index('published').resample('D').size()\n",
    "print(daily_counts)\n",
    "plt.figure()\n",
    "daily_counts.plot()\n",
    "plt.title('Daily Article Volume')\n",
    "plt.xlabel('Date')\n",
    "plt.ylabel('Count')\n",
    "plt.tight_layout()\n",
    "plt.show()"
   ]
  },
  {
   "cell_type": "markdown",
   "id": "22ac8997",
   "metadata": {},
   "source": [
    "## Top CVE References"
   ]
  },
  {
   "cell_type": "code",
   "execution_count": null,
   "id": "9c473af4",
   "metadata": {},
   "outputs": [],
   "source": [
    "# Explode and count CVE references\n",
    "cves = df['cve_references'].explode()\n",
    "cve_counts = cves.value_counts().head(20)\n",
    "print(cve_counts)\n",
    "plt.figure()\n",
    "cve_counts.plot(kind='barh')\n",
    "plt.title('Top 20 CVE References')\n",
    "plt.xlabel('Count')\n",
    "plt.ylabel('CVE ID')\n",
    "plt.tight_layout()\n",
    "plt.show()"
   ]
  },
  {
   "cell_type": "markdown",
   "id": "0fa2bda0",
   "metadata": {},
   "source": [
    "## Top Threat Actors"
   ]
  },
  {
   "cell_type": "code",
   "execution_count": null,
   "id": "eaf0eac5",
   "metadata": {},
   "outputs": [],
   "source": [
    "actors = df['potential_threat_actors'].explode()\n",
    "actor_counts = actors.value_counts().head(20)\n",
    "print(actor_counts)\n",
    "plt.figure()\n",
    "actor_counts.plot(kind='barh')\n",
    "plt.title('Top 20 Threat Actors')\n",
    "plt.xlabel('Count')\n",
    "plt.ylabel('Actor')\n",
    "plt.tight_layout()\n",
    "plt.show()"
   ]
  },
  {
   "cell_type": "markdown",
   "id": "31f2a3e4",
   "metadata": {},
   "source": [
    "## Filter and Query Examples\n",
    "You can filter the DataFrame interactively. For example:"
   ]
  },
  {
   "cell_type": "code",
   "execution_count": null,
   "id": "e157b979",
   "metadata": {},
   "outputs": [],
   "source": [
    "# Example: Filter to only HIGH and CRITICAL severity\n",
    "high_critical = df[df['severity_level'].isin(['HIGH','CRITICAL'])]\n",
    "high_critical.head()"
   ]
  },
  {
   "cell_type": "markdown",
   "id": "ec2f7600",
   "metadata": {},
   "source": [
    "Feel free to add further analyses, such as IOC frequency, actor trends over time, or confidence distribution histograms."
   ]
  }
 ],
 "metadata": {},
 "nbformat": 4,
 "nbformat_minor": 5
}
